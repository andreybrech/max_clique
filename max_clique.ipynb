{
 "cells": [
  {
   "cell_type": "markdown",
   "metadata": {},
   "source": [
    "change 1"
   ]
  },
  {
   "cell_type": "markdown",
   "metadata": {},
   "source": [
    "change 2"
   ]
  },
  {
   "cell_type": "code",
   "execution_count": 345,
   "metadata": {},
   "outputs": [],
   "source": [
    "class Graph(object):\n",
    "    \"\"\"\n",
    "    class of graph\n",
    "    \"\"\"\n",
    "    \n",
    "    def __init__(self):\n",
    "        \"\"\"\n",
    "        V- множество вершин\n",
    "        D - множество вершин, с возможностью их сортировки по степени\n",
    "        colors - нужен только для покраски по вершинам\n",
    "        \"\"\"\n",
    "        self.V = {}\n",
    "        self.D = [] \n",
    "        self._D_sorted = False\n",
    "        self.used_colors = set()\n",
    "        self.coloring = dict()\n",
    "\n",
    "    def add_edge(self,v1,v2):\n",
    "        \"\"\"\n",
    "        add pair of vertexes to V\n",
    "        add each other to neigbours\n",
    "        \"\"\"\n",
    "        self._add_vertex_to_neighbours(v1,v2)\n",
    "        self._add_vertex_to_neighbours(v2,v1)\n",
    "        \n",
    "        return\n",
    "    \n",
    "    def add_vertex(self,v1):\n",
    "        \"\"\"\n",
    "        add one vertex to V\n",
    "        \"\"\"\n",
    "        \n",
    "        if v1 in self.V: # если вершина есть в множестве, то все ок. Ее не надо добавлять\n",
    "                         # МБ надо обновить ее степень?\n",
    "#             v1.update_degree = len(self.neighbours(v1))\n",
    "#             self.V[v1]['degree'] = self.degree(v1)\n",
    "#             D[self.V[v1]['D_index'] ] = self.V[v1]['degree']\n",
    "            print('vertex already in graph.Vertexes')\n",
    "            \n",
    "            return\n",
    "        else:\n",
    "            self.V[v1] = {}\n",
    "            self.V[v1]['name'] = v1\n",
    "            self.V[v1]['neighbours'] = set()\n",
    "            self.V[v1]['degree'] = 0\n",
    "            self.D.append(self.V[v1])\n",
    "            self._D_sorted = False\n",
    "            \n",
    "            return\n",
    "    \n",
    "            \n",
    "    def _add_vertex_to_neighbours(self,v1, v2):\n",
    "        \"\"\"\n",
    "        add vertex v2 to neigbours of vertex v1\n",
    "        \"\"\"\n",
    "        if v1 not in self.V:\n",
    "            self.add_vertex(v1)\n",
    "        if v2 in self.V[v1]['neighbours']:\n",
    "            print('vertex already in neighbours')\n",
    "            return\n",
    "        self.V[v1]['neighbours'].add(v2)\n",
    "        self.V[v1]['degree'] += 1\n",
    "        self._D_sorted = False\n",
    "\n",
    "        return\n",
    "    \n",
    "    def neighbours(self,v1):\n",
    "        \"\"\"\n",
    "        print all neigbour names of chosed vertex\n",
    "        \"\"\"\n",
    "        if v1 in self.V:\n",
    "            return self.V[v1]['neighbours']\n",
    "        else:\n",
    "            print(\"no such vertex in graph\")\n",
    "            return None \n",
    "        \n",
    "    def is_neighbour(self,vertex_name,neighbour_name):\n",
    "        \"\"\"\n",
    "        vetrex - vertex name\n",
    "        neighbout - neighbour name\n",
    "        True if neighbour\n",
    "        False if not neighbour\n",
    "        \"\"\"\n",
    "        if neighbour_name in self.V[vertex_name]['neighbours']:\n",
    "            return True\n",
    "        return False\n",
    "    \n",
    "    \n",
    "    def sort_vertex_by_degree(self):\n",
    "        \"\"\"\n",
    "        sort vertexes: big degree is first\n",
    "        \"\"\"\n",
    "        # добавить маркер сортер для массива Д для того, чтобы не сортировать сортированный Д\n",
    "        if self._D_sorted :\n",
    "            return\n",
    "        self.D.sort(key= lambda input: input['degree'])\n",
    "        self._D_sorted = True\n",
    "        return\n",
    "\n",
    "        \n",
    "    \n",
    "    def degree(self,v1):\n",
    "        \"\"\"\n",
    "        return degree of chosen vertex\n",
    "        \"\"\"\n",
    "        if v1 in self.V:\n",
    "            return len(self.V[v1]['neighbours'])\n",
    "        else:\n",
    "            return None\n",
    "        \n",
    "            \n",
    "    \n",
    "    def clear_coloring(self):\n",
    "        self.used_colors = set()\n",
    "        self.coloring = dict()\n",
    "\n",
    "        \n",
    "    def recolor(self):\n",
    "        \"\"\"\n",
    "        Использовать с candidates при ветвлении\n",
    "        т.к в первоначальной окраске слишком много цветов\n",
    "        скорее всего стоит красить не каждое ветвление, а мб только в начале\n",
    "        \"\"\"\n",
    "    #     print('***recolor***')\n",
    "        max_color = -1\n",
    "        self.coloring = dict()\n",
    "        for vertex_name in self.V:\n",
    "            self.coloring[vertex_name] = None\n",
    "        self.used_colors = dict()\n",
    "        for vertex_name in self.V:\n",
    "#             print('vertex_name',vertex_name)\n",
    "#             print('used_Colors',self.used_colors)\n",
    "            avalible_colors = set(self.used_colors.keys() )\n",
    "            for neighbour_name in g.V[vertex_name]['neighbours']:\n",
    "#                 print('N',neighbour_name, self.coloring[neighbour_name] ,)\n",
    "                avalible_colors -= {self.coloring[neighbour_name]}\n",
    "                if len( avalible_colors ) == 0:\n",
    "                    break\n",
    "            if len( avalible_colors ) == 0:\n",
    "                max_color += 1 # color is index in candidates_coloring\n",
    "                self.used_colors[max_color] = set()\n",
    "                self.used_colors[max_color].add(vertex_name)\n",
    "                self.coloring[vertex_name] = max_color\n",
    "\n",
    "#             print('avalible_colors',avalible_colors)\n",
    "            if len( avalible_colors ) != 0:\n",
    "                for avalible_color in avalible_colors:\n",
    "                    rand_avalible_color = avalible_color\n",
    "                    break\n",
    "                self.used_colors[rand_avalible_color].add(vertex_name)\n",
    "                self.coloring[vertex_name] = rand_avalible_color\n",
    "#             print('chosen_Color',self.coloring[vertex_name])\n",
    "#         return used_colors,candidates_coloring\n",
    "\n",
    "    def recolor_by_degree(self):\n",
    "        \"\"\"\n",
    "        Использовать с candidates при ветвлении\n",
    "        т.к в первоначальной окраске слишком много цветов\n",
    "        скорее всего стоит красить не каждое ветвление, а мб только в начале\n",
    "        \"\"\"\n",
    "    #     print('***recolor***')    \n",
    "        self.sort_vertex_by_degree()\n",
    "        max_color = -1\n",
    "        self.coloring = dict()\n",
    "        for vertex_name in self.V:\n",
    "            self.coloring[vertex_name] = None\n",
    "        self.used_colors = dict()\n",
    "        for vertex in self.D:\n",
    "            vertex_name = vertex['name']\n",
    "#             print('vertex_name',vertex_name)\n",
    "#             print('used_Colors',self.used_colors)\n",
    "            avalible_colors = set(self.used_colors.keys() )\n",
    "            for neighbour_name in g.V[vertex_name]['neighbours']:\n",
    "#                 print('N',neighbour_name, self.coloring[neighbour_name] ,)\n",
    "                avalible_colors -= {self.coloring[neighbour_name]}\n",
    "                if len( avalible_colors ) == 0:\n",
    "                    break\n",
    "            if len( avalible_colors ) == 0:\n",
    "                max_color += 1 # color is index in candidates_coloring\n",
    "                self.used_colors[max_color] = set()\n",
    "                self.used_colors[max_color].add(vertex_name)\n",
    "                self.coloring[vertex_name] = max_color\n",
    "\n",
    "#             print('avalible_colors',avalible_colors)\n",
    "            if len( avalible_colors ) != 0:\n",
    "                for avalible_color in avalible_colors:\n",
    "                    rand_avalible_color = avalible_color\n",
    "                    break\n",
    "                self.used_colors[rand_avalible_color].add(vertex_name)\n",
    "                self.coloring[vertex_name] = rand_avalible_color\n",
    "#             print('chosen_Color',self.coloring[vertex_name])\n",
    "\n",
    "    def recolor_by_degree_reverse(self):\n",
    "            \"\"\"\n",
    "            Использовать с candidates при ветвлении\n",
    "            т.к в первоначальной окраске слишком много цветов\n",
    "            скорее всего стоит красить не каждое ветвление, а мб только в начале\n",
    "            \"\"\"\n",
    "        #     print('***recolor***')    \n",
    "            self.sort_vertex_by_degree()\n",
    "            max_color = -1\n",
    "            self.coloring = dict()\n",
    "            for vertex_name in self.V:\n",
    "                self.coloring[vertex_name] = None\n",
    "            self.used_colors = dict()\n",
    "            for vertex_index in range(len(self.D)-1,-1,-1):\n",
    "                vertex = self.D[vertex_index]\n",
    "                vertex_name = vertex['name']\n",
    "    #             print('vertex_name',vertex_name)\n",
    "    #             print('used_Colors',self.used_colors)\n",
    "                avalible_colors = set(self.used_colors.keys() )\n",
    "                for neighbour_name in g.V[vertex_name]['neighbours']:\n",
    "    #                 print('N',neighbour_name, self.coloring[neighbour_name] ,)\n",
    "                    avalible_colors -= {self.coloring[neighbour_name]}\n",
    "                    if len( avalible_colors ) == 0:\n",
    "                        break\n",
    "                if len( avalible_colors ) == 0:\n",
    "                    max_color += 1 # color is index in candidates_coloring\n",
    "                    self.used_colors[max_color] = set()\n",
    "                    self.used_colors[max_color].add(vertex_name)\n",
    "                    self.coloring[vertex_name] = max_color\n",
    "\n",
    "    #             print('avalible_colors',avalible_colors)\n",
    "                if len( avalible_colors ) != 0:\n",
    "                    for avalible_color in avalible_colors:\n",
    "                        rand_avalible_color = avalible_color\n",
    "                        break\n",
    "                    self.used_colors[rand_avalible_color].add(vertex_name)\n",
    "                    self.coloring[vertex_name] = rand_avalible_color\n",
    "    #             print('chosen_Color',self.coloring[vertex_name])\n",
    "    #   \n",
    "    \n",
    "        "
   ]
  },
  {
   "cell_type": "code",
   "execution_count": 346,
   "metadata": {},
   "outputs": [],
   "source": [
    "def read_dimacs_graph(file_path):\n",
    "    '''\n",
    "        Parse .col file and return graph object\n",
    "    '''\n",
    "    g = Graph()\n",
    "    with open(file_path, 'r') as file:\n",
    "        for line in file:\n",
    "            if line.startswith('c'):  # graph description\n",
    "                print(*line.split()[1:])\n",
    "            # first line: p name num_of_vertices num_of_edges\n",
    "            elif line.startswith('p'):\n",
    "                p, name, vertices_num, edges_num = line.split()\n",
    "                print('{0} {1} {2}'.format(name, vertices_num, edges_num))\n",
    "            elif line.startswith('e'):\n",
    "                _, v1, v2 = line.split()\n",
    "                g.add_edge(int(v1),int(v2))\n",
    "            else:\n",
    "                continue\n",
    "        return g\n"
   ]
  },
  {
   "cell_type": "code",
   "execution_count": 347,
   "metadata": {},
   "outputs": [],
   "source": [
    "path = 'C250.9.clq.txt'"
   ]
  },
  {
   "cell_type": "code",
   "execution_count": 348,
   "metadata": {},
   "outputs": [],
   "source": [
    "path2 = 'C500.9.clq.txt'"
   ]
  },
  {
   "cell_type": "code",
   "execution_count": 349,
   "metadata": {},
   "outputs": [],
   "source": [
    "path3 = 'brock800_4.clq.txt'"
   ]
  },
  {
   "cell_type": "code",
   "execution_count": 350,
   "metadata": {},
   "outputs": [],
   "source": [
    "path4 = 'C125.9.clq.txt'"
   ]
  },
  {
   "cell_type": "code",
   "execution_count": 351,
   "metadata": {},
   "outputs": [],
   "source": [
    "path_test = 'test.txt'"
   ]
  },
  {
   "cell_type": "code",
   "execution_count": 352,
   "metadata": {},
   "outputs": [],
   "source": [
    "path_test_2 = 'test2.txt'"
   ]
  },
  {
   "cell_type": "code",
   "execution_count": null,
   "metadata": {},
   "outputs": [],
   "source": []
  },
  {
   "cell_type": "raw",
   "metadata": {},
   "source": [
    "file = open(path3, 'r')"
   ]
  },
  {
   "cell_type": "code",
   "execution_count": 354,
   "metadata": {
    "scrolled": false
   },
   "outputs": [
    {
     "name": "stdout",
     "output_type": "stream",
     "text": [
      "FILE: C125.9.clq\n",
      "\n",
      "SOURCE: Generated by Michael Trick using\n",
      "ggen, a program by Craig Morgenstern\n",
      "\n",
      "DESCRIPTION: Cx.y is a random graph on x vertices\n",
      "with edge probability .y\n",
      "\n",
      "\n",
      "G(n,p) graph\n",
      "graph gen seed : 74328432\n",
      "number of vertices : 125\n",
      "max number of edges: 20000\n",
      "edge probability : 0.900000\n",
      "data structure : dense\n",
      "\n",
      "Graph Stats\n",
      "number of vertices : 125\n",
      "nonisolated vertices: 125\n",
      "number of edges : 6963\n",
      "edge density : 0.898452\n",
      "max degree : 119\n",
      "avg degree : 111.41\n",
      "min degree : 102\n",
      "edge 125 6963\n"
     ]
    }
   ],
   "source": [
    "g = read_dimacs_graph(path4);"
   ]
  },
  {
   "cell_type": "code",
   "execution_count": 355,
   "metadata": {
    "scrolled": true
   },
   "outputs": [
    {
     "name": "stdout",
     "output_type": "stream",
     "text": [
      "Wall time: 6.98 ms\n"
     ]
    }
   ],
   "source": [
    "%%time\n",
    "g.recolor()\n",
    "c1 = len(g.used_colors)\n",
    "g.clear_coloring()"
   ]
  },
  {
   "cell_type": "code",
   "execution_count": 356,
   "metadata": {},
   "outputs": [
    {
     "name": "stdout",
     "output_type": "stream",
     "text": [
      "Wall time: 8.98 ms\n"
     ]
    }
   ],
   "source": [
    "%%time\n",
    "g.recolor_by_degree()\n",
    "c2 = len(g.used_colors)\n",
    "g.clear_coloring()"
   ]
  },
  {
   "cell_type": "code",
   "execution_count": 357,
   "metadata": {
    "scrolled": true
   },
   "outputs": [
    {
     "name": "stdout",
     "output_type": "stream",
     "text": [
      "Wall time: 7.98 ms\n"
     ]
    }
   ],
   "source": [
    "%%time\n",
    "g.recolor_by_degree_reverse()\n",
    "c3 = len(g.used_colors)\n",
    "g.clear_coloring()"
   ]
  },
  {
   "cell_type": "code",
   "execution_count": 358,
   "metadata": {},
   "outputs": [],
   "source": [
    "g.clear_coloring()"
   ]
  },
  {
   "cell_type": "code",
   "execution_count": 359,
   "metadata": {},
   "outputs": [
    {
     "name": "stdout",
     "output_type": "stream",
     "text": [
      "g.coloring() 57\n",
      "g.coloring_by_degree() 56\n",
      "g.coloring_by_degree_reverse() 54\n"
     ]
    }
   ],
   "source": [
    "print('g.coloring()', c1)\n",
    "print('g.coloring_by_degree()', c2)\n",
    "print('g.coloring_by_degree_reverse()', c3)\n",
    "\n"
   ]
  },
  {
   "cell_type": "code",
   "execution_count": 360,
   "metadata": {},
   "outputs": [],
   "source": [
    "if c1 is min(c1,c2,c3):\n",
    "    g.clear_coloring()\n",
    "    g.recolor()\n",
    "    \n",
    "if c2 is min(c1,c2,c3):\n",
    "    g.recolor_by_degree()\n",
    "    g.recolor()\n",
    "if c3 is min(c1,c2,c3):\n",
    "    g.recolor_by_degree_reverse()\n",
    "    g.recolor()"
   ]
  },
  {
   "cell_type": "code",
   "execution_count": null,
   "metadata": {},
   "outputs": [],
   "source": []
  },
  {
   "cell_type": "markdown",
   "metadata": {},
   "source": [
    "Клика - подграф, который является полным графом.\n",
    "То есть все вершины соединины друг с другом\n"
   ]
  },
  {
   "cell_type": "code",
   "execution_count": null,
   "metadata": {},
   "outputs": [],
   "source": []
  },
  {
   "cell_type": "code",
   "execution_count": 361,
   "metadata": {
    "scrolled": true
   },
   "outputs": [],
   "source": [
    "def initial_heuristic_degree():\n",
    "    clique = set()\n",
    "    g.sort_vertex_by_degree()\n",
    "#     print(type(clique))\n",
    "    for vertex in g.D:\n",
    "#         print(type(clique),type(vertex))\n",
    "        \n",
    "        all_elements_in_clique_are_neighbours_to_vertex = True\n",
    "        for element in clique:\n",
    "            all_elements_in_clique_are_neighbours_to_vertex = all_elements_in_clique_are_neighbours_to_vertex and g.is_neighbour(vertex['name'],element)\n",
    "            if not all_elements_in_clique_are_neighbours_to_vertex:\n",
    "                break\n",
    "#         print(vertex['name'],all_elements_in_clique_are_neighbours_to_vertex )\n",
    "        if all_elements_in_clique_are_neighbours_to_vertex:\n",
    "            clique.add(vertex['name'])\n",
    "    return clique"
   ]
  },
  {
   "cell_type": "code",
   "execution_count": 362,
   "metadata": {},
   "outputs": [],
   "source": [
    "def initial_heuristic_color():\n",
    "    \"\"\"\n",
    "    makes clique:\n",
    "    first - vericies with maximal color\n",
    "    \"\"\"\n",
    "    clique = set()\n",
    "    g.sort_vertex_by_degree()\n",
    "    \n",
    "    for color in range(len(g.used_colors)):\n",
    "        for vertex_name in g.used_colors[color]:\n",
    "            all_elements_in_clique_are_neighbours_to_vertex = True\n",
    "            for element_name in clique:\n",
    "                all_elements_in_clique_are_neighbours_to_vertex = all_elements_in_clique_are_neighbours_to_vertex and g.is_neighbour(vertex_name,element_name)\n",
    "                if not all_elements_in_clique_are_neighbours_to_vertex:\n",
    "                    break\n",
    "#             print(vertex_name,all_elements_in_clique_are_neighbours_to_vertex )\n",
    "            if all_elements_in_clique_are_neighbours_to_vertex:\n",
    "                clique.add(vertex_name)\n",
    "    return clique"
   ]
  },
  {
   "cell_type": "code",
   "execution_count": 363,
   "metadata": {},
   "outputs": [],
   "source": [
    "def initial_heuristic_color_reverse():\n",
    "    \"\"\"\n",
    "    makes clique:\n",
    "    first - vericies with maximal color\n",
    "    \"\"\"\n",
    "\n",
    "    clique = set()\n",
    "    g.sort_vertex_by_degree()\n",
    "    \n",
    "    for color in range(len(g.used_colors)-1,-1,-1):\n",
    "        for vertex_name in g.used_colors[color]:\n",
    "            all_elements_in_clique_are_neighbours_to_vertex = True\n",
    "            for element_name in clique:\n",
    "                all_elements_in_clique_are_neighbours_to_vertex = all_elements_in_clique_are_neighbours_to_vertex and g.is_neighbour(vertex_name,element_name)\n",
    "                if not all_elements_in_clique_are_neighbours_to_vertex:\n",
    "                    break\n",
    "#             print(vertex_name,all_elements_in_clique_are_neighbours_to_vertex )\n",
    "            if all_elements_in_clique_are_neighbours_to_vertex:\n",
    "                clique.add(vertex_name)\n",
    "    return clique"
   ]
  },
  {
   "cell_type": "code",
   "execution_count": 364,
   "metadata": {},
   "outputs": [],
   "source": [
    "init_clique = initial_heuristic_color()"
   ]
  },
  {
   "cell_type": "code",
   "execution_count": 365,
   "metadata": {},
   "outputs": [],
   "source": [
    "init_clique_rev = initial_heuristic_color_reverse()"
   ]
  },
  {
   "cell_type": "code",
   "execution_count": 366,
   "metadata": {},
   "outputs": [],
   "source": [
    "init_clique_degree = initial_heuristic_degree_()"
   ]
  },
  {
   "cell_type": "code",
   "execution_count": 367,
   "metadata": {
    "scrolled": false
   },
   "outputs": [
    {
     "data": {
      "text/plain": [
       "25"
      ]
     },
     "execution_count": 367,
     "metadata": {},
     "output_type": "execute_result"
    }
   ],
   "source": [
    "len(init_clique)"
   ]
  },
  {
   "cell_type": "code",
   "execution_count": 368,
   "metadata": {},
   "outputs": [
    {
     "data": {
      "text/plain": [
       "26"
      ]
     },
     "execution_count": 368,
     "metadata": {},
     "output_type": "execute_result"
    }
   ],
   "source": [
    "len(init_clique_rev)"
   ]
  },
  {
   "cell_type": "code",
   "execution_count": 369,
   "metadata": {},
   "outputs": [
    {
     "data": {
      "text/plain": [
       "20"
      ]
     },
     "execution_count": 369,
     "metadata": {},
     "output_type": "execute_result"
    }
   ],
   "source": [
    "len(init_clique_degree)"
   ]
  },
  {
   "cell_type": "code",
   "execution_count": 371,
   "metadata": {},
   "outputs": [],
   "source": [
    "def candidates_recolor_old(candidates:set):\n",
    "    \"\"\"\n",
    "    Использовать с candidates при ветвлении\n",
    "    т.к в первоначальной окраске слишком много цветов\n",
    "    скорее всего стоит красить не каждое ветвление, а мб только в начале\n",
    "    \"\"\"\n",
    "#     print('***candidates_recolor***')\n",
    "    max_color = -1\n",
    "    candidates_coloring = dict()\n",
    "    for vertex_name in candidates:\n",
    "        candidates_coloring[vertex_name] = None\n",
    "    used_colors = dict()\n",
    "    for vertex_name in candidates:\n",
    "#         print('vertex_name',vertex_name)\n",
    "#         print('used_Colors',used_colors)\n",
    "        avalible_colors = set(used_colors.keys() )\n",
    "        for neighbour_name in g.V[vertex_name]['neighbours'].intersection(candidates):\n",
    "#             print('N',neighbour_name, candidates_coloring[neighbour_name] , neighbour_name in candidates)\n",
    "            avalible_colors -= {candidates_coloring[neighbour_name]}\n",
    "            if len( avalible_colors ) == 0:\n",
    "                break\n",
    "        if len( avalible_colors ) == 0:\n",
    "            max_color += 1 # color is index in candidates_coloring\n",
    "            used_colors[max_color] = set()\n",
    "            used_colors[max_color].add(vertex_name)\n",
    "            candidates_coloring[vertex_name] = max_color\n",
    "        \n",
    "#         print('avalible_colors',avalible_colors)\n",
    "        if len( avalible_colors ) != 0:\n",
    "            for avalible_color in avalible_colors:\n",
    "                rand_avalible_color = avalible_color\n",
    "                break\n",
    "            used_colors[rand_avalible_color].add(vertex_name)\n",
    "            candidates_coloring[vertex_name] = rand_avalible_color\n",
    "#         print('chosen_Color',candidates_coloring[vertex_name])\n",
    "    return used_colors,candidates_coloring"
   ]
  },
  {
   "cell_type": "code",
   "execution_count": 372,
   "metadata": {},
   "outputs": [],
   "source": [
    "def candidates_recolor(candidates:set):\n",
    "    \"\"\"\n",
    "    Использовать с candidates при ветвлении\n",
    "    т.к в первоначальной окраске слишком много цветов\n",
    "    скорее всего стоит красить не каждое ветвление, а мб только в начале\n",
    "    \"\"\"\n",
    "#     print('***candidates_recolor***')\n",
    "    max_color = 0\n",
    "    candidates_coloring = dict()\n",
    "    for vertex_name in candidates:\n",
    "        candidates_coloring[vertex_name] = 0\n",
    "    used_colors = {0: set()}\n",
    "    for vertex_name in candidates:\n",
    "#         print('vertex_name',vertex_name)\n",
    "#         print('used_Colors',used_colors)\n",
    "        neighbour_colors = set()\n",
    "        for neighbour_name in g.V[vertex_name]['neighbours'].intersection(candidates):\n",
    "#             print('N',neighbour_name, candidates_coloring[neighbour_name] , neighbour_name in candidates)\n",
    "            neighbour_colors.add(candidates_coloring[neighbour_name])\n",
    "            if len( neighbour_colors ) == len(used_colors):\n",
    "#                 print('break')\n",
    "                break\n",
    "        if len( neighbour_colors ) == len(used_colors):\n",
    "            max_color += 1 # color is index in candidates_coloring\n",
    "            used_colors[max_color] = set()\n",
    "            used_colors[max_color].add(vertex_name)\n",
    "            candidates_coloring[vertex_name] = max_color\n",
    "#             print(used_colors,candidates_coloring)\n",
    "        \n",
    "#         print('avalible_colors',avalible_colors)\n",
    "        elif len( neighbour_colors ) < len(used_colors):\n",
    "            avalible_colors = set(used_colors.keys()) - neighbour_colors\n",
    "#             print('avalible_colors',avalible_colors)\n",
    "            for avalible_color in avalible_colors:\n",
    "                rand_avalible_color = avalible_color\n",
    "                break\n",
    "            used_colors[rand_avalible_color].add(vertex_name)\n",
    "            candidates_coloring[vertex_name] = rand_avalible_color\n",
    "#         print('chosen_Color',candidates_coloring[vertex_name])\n",
    "    if len(candidates_coloring) != len(candidates):\n",
    "        raise NameError('Not all verticies colored')\n",
    "    return used_colors,candidates_coloring"
   ]
  },
  {
   "cell_type": "code",
   "execution_count": 373,
   "metadata": {},
   "outputs": [],
   "source": [
    "def candidates_recolor_degree(candidates:set, rev = True):\n",
    "    \"\"\"\n",
    "    Использовать с candidates при ветвлении\n",
    "    т.к в первоначальной окраске слишком много цветов\n",
    "    скорее всего стоит красить не каждое ветвление, а мб только в начале\n",
    "    \"\"\"\n",
    "#     print('***candidates_recolor\n",
    "    candidates_degree_order = list(candidates)\n",
    "    candidates_degree_order.sort(key= lambda input: g.V[input]['degree'], reverse = rev)\n",
    "    max_color = -1\n",
    "    candidates_coloring = dict()\n",
    "    for vertex_name in candidates:\n",
    "        candidates_coloring[vertex_name] = None\n",
    "    used_colors = dict()\n",
    "    for vertex_name in candidates_degree_order:\n",
    "#         print('vertex_name',vertex_name)\n",
    "#         print('used_Colors',used_colors)\n",
    "        avalible_colors = set(used_colors.keys() )\n",
    "        for neighbour_name in g.V[vertex_name]['neighbours'].intersection(candidates):\n",
    "#             print('N',neighbour_name, candidates_coloring[neighbour_name] , neighbour_name in candidates)\n",
    "            avalible_colors -= {candidates_coloring[neighbour_name]}\n",
    "            if len( avalible_colors ) == 0:\n",
    "                break\n",
    "        if len( avalible_colors ) == 0:\n",
    "            max_color += 1 # color is index in candidates_coloring\n",
    "            used_colors[max_color] = set()\n",
    "            used_colors[max_color].add(vertex_name)\n",
    "            candidates_coloring[vertex_name] = max_color\n",
    "        \n",
    "#         print('avalible_colors',avalible_colors)\n",
    "        if len( avalible_colors ) != 0:\n",
    "            for avalible_color in avalible_colors:\n",
    "                rand_avalible_color = avalible_color\n",
    "                break\n",
    "            used_colors[rand_avalible_color].add(vertex_name)\n",
    "            candidates_coloring[vertex_name] = rand_avalible_color\n",
    "#         print('chosen_Color',candidates_coloring[vertex_name])\n",
    "    return used_colors,candidates_coloring"
   ]
  },
  {
   "cell_type": "markdown",
   "metadata": {},
   "source": [
    "Првоерить могут ли быть в кандитдатах вершины из клики "
   ]
  },
  {
   "cell_type": "code",
   "execution_count": 375,
   "metadata": {},
   "outputs": [],
   "source": [
    "def branching_order_old():\n",
    "    \"\"\"\n",
    "    создает последовательность из вершин множества candidates такую, что в начало добавляются\n",
    "    те вершины, при добавлении которых в клику новое множество кандидаы расскрашивается \n",
    "    в большое количество цветов.\n",
    "    Если понятно, что ветвь не оптимальна, то она сразу не добавляется в очередь\n",
    "    \"\"\"\n",
    "    \n",
    "    global clique, candidates, len_max_current_clique\n",
    "    \n",
    "    order = []\n",
    "    colors_on_branch = []\n",
    "    for vertex in candidates:\n",
    "        clique.add(vertex)\n",
    "        candidates_br = find_candidates()\n",
    "        (colors_br,_) = candidates_recolor_degree(candidates_br)\n",
    "        len_max_possible_clique_on_branch = len(colors_br) + len(clique)\n",
    "        if len_max_possible_clique_on_branch  > len_max_current_clique: #debug +100\n",
    "            order.append(vertex)\n",
    "            colors_on_branch.append( len(colors_br) )\n",
    "        else:\n",
    "            print('baned vertex',vertex, 'with colors', len(colors_br)  )\n",
    "        clique.remove(vertex)\n",
    "    x = zip(order,colors_on_branch)\n",
    "    xs = sorted(x, key=lambda tup: tup[1], reverse = True)\n",
    "    order = [x[0] for x in xs]\n",
    "    colors_on_branch = [x[1] for x in xs] \n",
    "    return order,colors_on_branch"
   ]
  },
  {
   "cell_type": "code",
   "execution_count": 376,
   "metadata": {},
   "outputs": [],
   "source": [
    "def branching_old():\n",
    "    \"\"\"\n",
    "    прочитать граф\n",
    "    расскрасить граф\n",
    "    найти эвристику\n",
    "    \"\"\"\n",
    "    global clique, candidates, len_max_current_clique, forbiden\n",
    "    \n",
    "    if len(candidates) == 0:\n",
    "        len_max_current_clique = len(clique)\n",
    "        \n",
    "        print('Over of one branch. New max_clique = ', len_max_current_clique )\n",
    "        print('clique is', clique)\n",
    "        return clique\n",
    "    \n",
    "    order,colors_on_branch = branching_order()\n",
    "    forbiden_br = dict()\n",
    "    for vertex_index in range(len(order)):\n",
    "        vertex = order[vertex_index]\n",
    "        if colors_on_branch[vertex_index] + len(clique) + 1 <= len_max_current_clique: #debug +100\n",
    "            continue\n",
    "        clique.add(vertex)\n",
    "        candidates = find_candidates()\n",
    "        if not set(forbiden.keys()).issubset(candidates):\n",
    "            clique.remove(vertex)\n",
    "            if vertex in forbiden:\n",
    "                forbiden[vertex] += 1\n",
    "            else:\n",
    "                forbiden[vertex] = 1\n",
    "\n",
    "            if vertex in forbiden_br:\n",
    "                forbiden_br[vertex] += 1\n",
    "            else:\n",
    "                forbiden_br[vertex] = 1\n",
    "            continue\n",
    "        (colors_br,_) = candidates_recolor_degree(candidates)\n",
    "        len_max_possible_clique_on_branch = len(colors_br) + len(clique)\n",
    "        if len_max_possible_clique_on_branch > len_max_current_clique:\n",
    "            branching_new()\n",
    "        clique.remove(vertex)\n",
    "        if vertex in forbiden:\n",
    "            forbiden[vertex] += 1\n",
    "        else:\n",
    "            forbiden[vertex] = 1\n",
    "        \n",
    "        if vertex in forbiden_br:\n",
    "            forbiden_br[vertex] += 1\n",
    "        else:\n",
    "            forbiden_br[vertex] = 1\n",
    "        \n",
    "    for vertex in forbiden_br:\n",
    "        forbiden[vertex] -= forbiden_br[vertex]\n",
    "        if forbiden[vertex] == 0:\n",
    "            forbiden.pop(vertex)\n",
    "        if vertex in forbiden and forbiden[vertex] < 0:\n",
    "            raise AssertionError('forbiden[vertex] < 0')\n",
    "    forbiden_br = dict()\n",
    "      "
   ]
  },
  {
   "cell_type": "code",
   "execution_count": 377,
   "metadata": {},
   "outputs": [],
   "source": [
    "def find_candidates_old():\n",
    "    \"\"\"\n",
    "    verticies - set of verticies names\n",
    "    find all verticies, that are neigbours to all verticies in verticies\n",
    "    if enter is empty - find all verticies of graph\n",
    "    clique - глабавльная переменная\n",
    "    \"\"\"\n",
    "    global clique\n",
    "    candidates = set()\n",
    "#     print('***find_candidates***')\n",
    "#     print('clique',clique)\n",
    "    if len(clique) == 0:\n",
    "        candidates = set( g.V.keys() )\n",
    "    for x in clique:\n",
    "#         print(g.V[x]['name'])\n",
    "        candidates = g.V[x]['neighbours'].copy()\n",
    "        break\n",
    "    for vertex in clique:\n",
    "        candidates.intersection_update(g.V[vertex]['neighbours'])\n",
    "#     print(candidates)\n",
    "    return candidates"
   ]
  },
  {
   "cell_type": "code",
   "execution_count": 489,
   "metadata": {},
   "outputs": [],
   "source": [
    "def find_candidates(vertex_to_clique = None):\n",
    "    \"\"\"\n",
    "    если клика пустая создает множество из всех вершин графа\n",
    "    если не пустая выдает ошибку - использовать update_candidates\n",
    "    \"\"\"\n",
    "    global clique, candidates\n",
    "    \n",
    "    if len(clique) == 0:\n",
    "        candidates = set( g.V.keys() )\n",
    "    else:\n",
    "        raise NameError('len(clique) =! 0. Use update_candidates')\n",
    "\n",
    "    return candidates"
   ]
  },
  {
   "cell_type": "code",
   "execution_count": 630,
   "metadata": {},
   "outputs": [
    {
     "data": {
      "text/plain": [
       "63"
      ]
     },
     "execution_count": 630,
     "metadata": {},
     "output_type": "execute_result"
    }
   ],
   "source": [
    "len(candidates)"
   ]
  },
  {
   "cell_type": "code",
   "execution_count": 631,
   "metadata": {},
   "outputs": [],
   "source": [
    "cand_br = candidates.intersection(g.V[4]['neighbours'])"
   ]
  },
  {
   "cell_type": "code",
   "execution_count": 629,
   "metadata": {},
   "outputs": [
    {
     "data": {
      "text/plain": [
       "63"
      ]
     },
     "execution_count": 629,
     "metadata": {},
     "output_type": "execute_result"
    }
   ],
   "source": [
    "len(candidates)"
   ]
  },
  {
   "cell_type": "code",
   "execution_count": 632,
   "metadata": {},
   "outputs": [
    {
     "data": {
      "text/plain": [
       "55"
      ]
     },
     "execution_count": 632,
     "metadata": {},
     "output_type": "execute_result"
    }
   ],
   "source": [
    "len(cand_br)"
   ]
  },
  {
   "cell_type": "code",
   "execution_count": 493,
   "metadata": {
    "scrolled": true
   },
   "outputs": [],
   "source": [
    "(colors,_) = candidates_recolor(candidates)"
   ]
  },
  {
   "cell_type": "code",
   "execution_count": 494,
   "metadata": {},
   "outputs": [
    {
     "data": {
      "text/plain": [
       "102"
      ]
     },
     "execution_count": 494,
     "metadata": {},
     "output_type": "execute_result"
    }
   ],
   "source": [
    "len(candidates)"
   ]
  },
  {
   "cell_type": "code",
   "execution_count": 497,
   "metadata": {},
   "outputs": [
    {
     "data": {
      "text/plain": [
       "{0: {125},\n",
       " 1: {4, 22, 31},\n",
       " 2: {5, 23},\n",
       " 3: {6, 14},\n",
       " 4: {7, 78},\n",
       " 5: {8, 40},\n",
       " 6: {9, 32},\n",
       " 7: {10, 29},\n",
       " 8: {11, 26, 97},\n",
       " 9: {16, 21, 25},\n",
       " 10: {17, 30, 50},\n",
       " 11: {18, 27, 57},\n",
       " 12: {19, 60},\n",
       " 13: {24, 62},\n",
       " 14: {28, 38},\n",
       " 15: {33, 36},\n",
       " 16: {34, 58},\n",
       " 17: {35, 61, 79},\n",
       " 18: {39, 59, 122},\n",
       " 19: {41, 49},\n",
       " 20: {43, 65, 121},\n",
       " 21: {44, 119},\n",
       " 22: {45, 81},\n",
       " 23: {46, 47, 99},\n",
       " 24: {48, 51, 103},\n",
       " 25: {52, 71},\n",
       " 26: {54, 91},\n",
       " 27: {63, 74},\n",
       " 28: {64, 80},\n",
       " 29: {68, 73},\n",
       " 30: {69, 83},\n",
       " 31: {70, 84, 107},\n",
       " 32: {72, 76},\n",
       " 33: {77, 100},\n",
       " 34: {82, 89},\n",
       " 35: {85, 124},\n",
       " 36: {86, 88},\n",
       " 37: {92},\n",
       " 38: {93, 116},\n",
       " 39: {94, 96, 115},\n",
       " 40: {98, 123},\n",
       " 41: {101, 104},\n",
       " 42: {102, 110},\n",
       " 43: {105, 112},\n",
       " 44: {111},\n",
       " 45: {113, 117},\n",
       " 46: {114}}"
      ]
     },
     "execution_count": 497,
     "metadata": {},
     "output_type": "execute_result"
    }
   ],
   "source": [
    "(colors)"
   ]
  },
  {
   "cell_type": "code",
   "execution_count": 506,
   "metadata": {},
   "outputs": [],
   "source": [
    "b = [0,1,2,3,4,5,6,7,8]"
   ]
  },
  {
   "cell_type": "code",
   "execution_count": 507,
   "metadata": {},
   "outputs": [
    {
     "data": {
      "text/plain": [
       "8"
      ]
     },
     "execution_count": 507,
     "metadata": {},
     "output_type": "execute_result"
    }
   ],
   "source": [
    "b[len(b)-1]"
   ]
  },
  {
   "cell_type": "code",
   "execution_count": 508,
   "metadata": {},
   "outputs": [],
   "source": [
    "max_color  = 2"
   ]
  },
  {
   "cell_type": "code",
   "execution_count": 511,
   "metadata": {
    "scrolled": true
   },
   "outputs": [
    {
     "name": "stdout",
     "output_type": "stream",
     "text": [
      "8\n",
      "7\n",
      "6\n",
      "5\n",
      "4\n",
      "3\n",
      "2\n"
     ]
    }
   ],
   "source": [
    "for i in range(len(b)-1,max_color-1,-1):\n",
    "    print(b[i])"
   ]
  },
  {
   "cell_type": "code",
   "execution_count": 581,
   "metadata": {},
   "outputs": [],
   "source": [
    "colors,vertex_coloring = candidates_recolor(candidates)"
   ]
  },
  {
   "cell_type": "code",
   "execution_count": 583,
   "metadata": {},
   "outputs": [
    {
     "data": {
      "text/plain": [
       "{1: 1,\n",
       " 2: 2,\n",
       " 3: 2,\n",
       " 4: 3,\n",
       " 5: 4,\n",
       " 6: 5,\n",
       " 7: 6,\n",
       " 8: 7,\n",
       " 9: 8,\n",
       " 10: 9,\n",
       " 11: 10,\n",
       " 12: 8,\n",
       " 13: 11,\n",
       " 14: 11,\n",
       " 15: 10,\n",
       " 16: 12,\n",
       " 17: 13,\n",
       " 18: 14,\n",
       " 19: 15,\n",
       " 20: 9,\n",
       " 21: 12,\n",
       " 22: 3,\n",
       " 23: 4,\n",
       " 24: 16,\n",
       " 25: 12,\n",
       " 26: 17,\n",
       " 27: 17,\n",
       " 28: 18,\n",
       " 29: 19,\n",
       " 30: 13,\n",
       " 31: 18,\n",
       " 32: 20,\n",
       " 33: 21,\n",
       " 34: 20,\n",
       " 35: 22,\n",
       " 36: 21,\n",
       " 37: 1,\n",
       " 38: 23,\n",
       " 39: 24,\n",
       " 40: 7,\n",
       " 41: 25,\n",
       " 42: 26,\n",
       " 43: 27,\n",
       " 44: 28,\n",
       " 45: 29,\n",
       " 46: 26,\n",
       " 47: 30,\n",
       " 48: 31,\n",
       " 49: 25,\n",
       " 50: 13,\n",
       " 51: 10,\n",
       " 52: 14,\n",
       " 53: 19,\n",
       " 54: 32,\n",
       " 55: 31,\n",
       " 56: 24,\n",
       " 57: 28,\n",
       " 58: 6,\n",
       " 59: 33,\n",
       " 60: 15,\n",
       " 61: 22,\n",
       " 62: 16,\n",
       " 63: 34,\n",
       " 64: 35,\n",
       " 65: 33,\n",
       " 66: 36,\n",
       " 67: 37,\n",
       " 68: 38,\n",
       " 69: 39,\n",
       " 70: 27,\n",
       " 71: 11,\n",
       " 72: 40,\n",
       " 73: 38,\n",
       " 74: 34,\n",
       " 75: 40,\n",
       " 76: 40,\n",
       " 77: 41,\n",
       " 78: 5,\n",
       " 79: 22,\n",
       " 80: 35,\n",
       " 81: 29,\n",
       " 82: 30,\n",
       " 83: 26,\n",
       " 84: 24,\n",
       " 85: 39,\n",
       " 86: 42,\n",
       " 87: 37,\n",
       " 88: 8,\n",
       " 89: 43,\n",
       " 90: 41,\n",
       " 91: 32,\n",
       " 92: 36,\n",
       " 93: 44,\n",
       " 94: 45,\n",
       " 95: 1,\n",
       " 96: 43,\n",
       " 97: 16,\n",
       " 98: 23,\n",
       " 99: 30,\n",
       " 100: 46,\n",
       " 101: 47,\n",
       " 102: 14,\n",
       " 103: 48,\n",
       " 104: 47,\n",
       " 105: 48,\n",
       " 106: 45,\n",
       " 107: 49,\n",
       " 108: 6,\n",
       " 109: 44,\n",
       " 110: 50,\n",
       " 111: 51,\n",
       " 112: 29,\n",
       " 113: 52,\n",
       " 114: 53,\n",
       " 115: 54,\n",
       " 116: 55,\n",
       " 117: 42,\n",
       " 118: 49,\n",
       " 119: 54,\n",
       " 120: 56,\n",
       " 121: 57,\n",
       " 122: 58,\n",
       " 123: 52,\n",
       " 124: 37,\n",
       " 125: 0}"
      ]
     },
     "execution_count": 583,
     "metadata": {},
     "output_type": "execute_result"
    }
   ],
   "source": [
    "vertex_coloring"
   ]
  },
  {
   "cell_type": "code",
   "execution_count": 549,
   "metadata": {},
   "outputs": [
    {
     "data": {
      "text/plain": [
       "102"
      ]
     },
     "execution_count": 549,
     "metadata": {},
     "output_type": "execute_result"
    }
   ],
   "source": [
    "len(candidates)"
   ]
  },
  {
   "cell_type": "code",
   "execution_count": 808,
   "metadata": {},
   "outputs": [],
   "source": [
    "def update_candidates(used_candidates = None, candidates = None, vertex_to_clique = None):\n",
    "    \"\"\"\n",
    "    если клика пустая выдает ошибку - нужно использовать find_candidates\n",
    "    если клика не пустая то обновляет множетсво кандидитов:\n",
    "        в него включаются те вершины, которые есть в кандидатах\n",
    "        и те вершины, которые есть в соседях у вершины vertex_to_clique, которая\n",
    "        в данный момент добавляется в клику\n",
    "    \"\"\"\n",
    "    global clique #, candidates\n",
    "    \n",
    "    if len(clique) == 0:\n",
    "        raise NameError('len(clique) == 0. Use find_candidates')\n",
    "    if candidates is None:\n",
    "        raise NameError('candidates = None')\n",
    "    if used_candidates is None:\n",
    "        used_candidates = set()\n",
    "    else:\n",
    "        if vertex_to_clique not in candidates:\n",
    "            raise NameError(vertex_to_clique,'No such vertex in candidates')\n",
    "        updated_candidates = candidates.intersection(g.V[vertex_to_clique]['neighbours']) - used_candidates\n",
    "    return updated_candidates"
   ]
  },
  {
   "cell_type": "code",
   "execution_count": 794,
   "metadata": {},
   "outputs": [],
   "source": [
    "def branching_order(candidates,colors):\n",
    "    \"\"\"\n",
    "    создает последовательность из вершин множества candidates такую, что в начало добавляются\n",
    "    те вершины, при добавлении которых в клику новое множество кандидаы расскрашивается \n",
    "    в большое количество цветов.\n",
    "    Если понятно, что ветвь не оптимальна, то она сразу не добавляется в очередь\n",
    "    \"\"\"\n",
    "    \n",
    "    global clique, len_max_current_clique #, colors # candidates,\n",
    "    colors_num = len(colors) # colors надо полуить до использования функции\n",
    "    candidates_order = []\n",
    "    # len(cloque) + color of vertex > len_max_current_clique\n",
    "    # дальше используем вершины с цветом, удовлетворяющим этому условию\n",
    "    # colors = 0,1,2,3,4...\n",
    "    last_color = len_max_current_clique - len(clique) # вроде без +1\n",
    "    for color in range(colors_num - 1, max(last_color - 1,-1), -1):\n",
    "        for vertex in colors[color]:\n",
    "            if not vertex in clique:\n",
    "                candidates_order.append(vertex)\n",
    "    \n",
    "    \n",
    "    \n",
    "    return candidates_order"
   ]
  },
  {
   "cell_type": "code",
   "execution_count": 854,
   "metadata": {},
   "outputs": [],
   "source": [
    "def branching_new(candidates, used_candidates):\n",
    "    \"\"\"\n",
    "    прочитать граф\n",
    "    расскрасить граф\n",
    "    найти эвристику\n",
    "    \"\"\"\n",
    "    global clique, len_max_current_clique, min_in, max_out #, candidates\n",
    "    \n",
    "    if len(candidates) == 0:\n",
    "        len_max_current_clique = len(clique)\n",
    "        print('Over of one branch. New max_clique = ', len_max_current_clique )\n",
    "        print('clique is', clique)\n",
    "        return\n",
    "    \n",
    "    (colors,vertex_coloring) = candidates_recolor(candidates)\n",
    "    colors_num_of_candidates = len(colors)\n",
    "    if colors_num_of_candidates + len(clique) < len_max_current_clique:\n",
    "#         print('skipped', candidates)\n",
    "        return\n",
    "    candidates_order = branching_order(candidates,colors)\n",
    "    if min_in > len(candidates_order):\n",
    "        min_in = len(candidates_order)\n",
    "        print(min_in)\n",
    "            \n",
    "        \n",
    "#     print('start candidates_order',candidates_order)\n",
    "#     print('start used_candidates', used_candidates)\n",
    "    for vertex in candidates_order:\n",
    "#         print('start vertex',vertex, 'on order',candidates_order, 'with used_candidates',used_candidates  )\n",
    "        vertex_color = vertex_coloring[vertex]\n",
    "        if (vertex_color + 1) + len(clique) <= len_max_current_clique: # len_max_current_clique может измениться. Поэтому проверяем\n",
    "            for vertex_1 in candidates_order:\n",
    "                if vertex_1 == vertex:\n",
    "                    break\n",
    "                used_candidates.remove(vertex_1)\n",
    "#             print('break',vertex,'on order', candidates_order)\n",
    "            break # все вершиниы дальше по списку тоже не удовлетворяют этому условию\n",
    "            # добвить оставшиеся в used_candidates\n",
    "        clique.add(vertex)\n",
    "#         print('clique',len(clique),clique)\n",
    "        candidates_br = update_candidates(used_candidates, candidates, vertex_to_clique = vertex)\n",
    "#         print('candidates_br',candidates_br)\n",
    "        branching_new(candidates_br, used_candidates)\n",
    "        used_candidates.add(vertex)\n",
    "        clique.remove(vertex)\n",
    "#         print('finish vertex',vertex)\n",
    "    else:\n",
    "        for vertex in candidates_order:\n",
    "#             print(candidates_order)\n",
    "            used_candidates.remove(vertex)\n",
    "    if max_out < len(candidates_order):\n",
    "        max_out = len(candidates_order)\n",
    "        print(max_out)\n",
    "#     print('finish candidates_order',candidates_order)\n"
   ]
  },
  {
   "cell_type": "code",
   "execution_count": 858,
   "metadata": {},
   "outputs": [
    {
     "name": "stdout",
     "output_type": "stream",
     "text": [
      "44\n",
      "33\n",
      "28\n",
      "21\n",
      "18\n",
      "11\n",
      "9\n",
      "7\n",
      "6\n",
      "4\n",
      "0\n",
      "2\n",
      "3\n",
      "4\n",
      "6\n",
      "7\n",
      "8\n",
      "9\n",
      "10\n",
      "11\n",
      "12\n",
      "16\n",
      "18\n",
      "21\n",
      "26\n",
      "28\n",
      "33\n",
      "34\n",
      "35\n",
      "44\n"
     ]
    }
   ],
   "source": [
    "clique = set()\n",
    "candidates = find_candidates()\n",
    "min_in = 125\n",
    "max_out = 0\n",
    "used_candidates = set()\n",
    "len_max_current_clique = 34\n",
    "branching_new(candidates,used_candidates)"
   ]
  },
  {
   "cell_type": "code",
   "execution_count": null,
   "metadata": {},
   "outputs": [],
   "source": []
  },
  {
   "cell_type": "code",
   "execution_count": null,
   "metadata": {},
   "outputs": [],
   "source": []
  },
  {
   "cell_type": "code",
   "execution_count": null,
   "metadata": {},
   "outputs": [],
   "source": []
  },
  {
   "cell_type": "code",
   "execution_count": null,
   "metadata": {},
   "outputs": [],
   "source": []
  },
  {
   "cell_type": "code",
   "execution_count": 849,
   "metadata": {},
   "outputs": [
    {
     "name": "stdout",
     "output_type": "stream",
     "text": [
      "0\n",
      "1\n",
      "2\n",
      "3\n",
      "4\n"
     ]
    }
   ],
   "source": [
    "for i in range(7):\n",
    "    print(i)\n",
    "    if i> 3:\n",
    "        break\n",
    "else:\n",
    "    print(228)"
   ]
  },
  {
   "cell_type": "code",
   "execution_count": null,
   "metadata": {},
   "outputs": [],
   "source": []
  }
 ],
 "metadata": {
  "kernelspec": {
   "display_name": "Python 3",
   "language": "python",
   "name": "python3"
  }
 },
 "nbformat": 4,
 "nbformat_minor": 2
}
