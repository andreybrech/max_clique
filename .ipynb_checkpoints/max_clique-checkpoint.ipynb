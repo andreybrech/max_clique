{
 "cells": [
  {
   "cell_type": "markdown",
   "metadata": {},
   "source": [
    "change 1"
   ]
  },
  {
   "cell_type": "markdown",
   "metadata": {},
   "source": [
    "change 2"
   ]
  },
  {
   "cell_type": "code",
   "execution_count": 45,
   "metadata": {},
   "outputs": [],
   "source": [
    "def sort(B):\n",
    "    \"\"\"\n",
    "    Изменяет сортируемый массив\n",
    "    \"\"\"\n",
    "    for i in range(1,len(B)):\n",
    "        for j in range(i,len(B)):\n",
    "            while B[j] < B[j-1] and j >=1:\n",
    "                B[j],B[j-1] = B[j-1],B[j]\n",
    "                j -= 1\n",
    "#                 print(A)\n",
    "    return B"
   ]
  },
  {
   "cell_type": "code",
   "execution_count": 46,
   "metadata": {},
   "outputs": [],
   "source": [
    "def reverse_sort(B):\n",
    "    \"\"\"\n",
    "    Изменяет сортируемый массив\n",
    "    \"\"\"\n",
    "    for i in range(len(B)-2,-1,-1):\n",
    "        print(B[i])\n",
    "        j = i\n",
    "        while j <= len(B)-2 and B[j] < B[j+1]:\n",
    "            print(B,B[j],B[j+1],j)\n",
    "            B[j],B[j+1] = B[j+1],B[j]\n",
    "            j += 1\n",
    "            #print('end',B,B[j],B[j+1],j)\n",
    "#                 print(A)\n",
    "    return B"
   ]
  },
  {
   "cell_type": "code",
   "execution_count": 47,
   "metadata": {},
   "outputs": [],
   "source": [
    "class Graph(object):\n",
    "    \"\"\"\n",
    "    class of graph\n",
    "    \"\"\"\n",
    "    \n",
    "    def __init__(self):\n",
    "        \"\"\"\n",
    "        V- множество вершин\n",
    "        D - множество вершин, с возможностью их сортировки по степени\n",
    "        colors - нужен только для покраски по вершинам\n",
    "        \"\"\"\n",
    "        self.V = {}\n",
    "        self.D = [] \n",
    "        self._D_sorted = False\n",
    "        self.used_colors = set()\n",
    "        self.coloring = dict()\n",
    "\n",
    "    def add_edge(self,v1,v2):\n",
    "        \"\"\"\n",
    "        add pair of vertexes to V\n",
    "        add each other to neigbours\n",
    "        \"\"\"\n",
    "        self._add_vertex_to_neighbours(v1,v2)\n",
    "        self._add_vertex_to_neighbours(v2,v1)\n",
    "        \n",
    "        return\n",
    "    \n",
    "    def add_vertex(self,v1):\n",
    "        \"\"\"\n",
    "        add one vertex to V\n",
    "        \"\"\"\n",
    "        \n",
    "        if v1 in self.V: # если вершина есть в множестве, то все ок. Ее не надо добавлять\n",
    "                         # МБ надо обновить ее степень?\n",
    "#             v1.update_degree = len(self.neighbours(v1))\n",
    "#             self.V[v1]['degree'] = self.degree(v1)\n",
    "#             D[self.V[v1]['D_index'] ] = self.V[v1]['degree']\n",
    "            print('vertex already in graph.Vertexes')\n",
    "            \n",
    "            return\n",
    "        else:\n",
    "            self.V[v1] = {}\n",
    "            self.V[v1]['name'] = v1\n",
    "            self.V[v1]['neighbours'] = set()\n",
    "            self.V[v1]['degree'] = 0\n",
    "#             self.V[v1]['degree_position'] = 0\n",
    "            self.D.append(self.V[v1])\n",
    "#             self.V[v1]['D_index'] = len(self.D) - 1\n",
    "            self._D_sorted = False\n",
    "#             self.V[v1]['color'] = None\n",
    "#             self.V[v1]['neigbour_colors'] = set()\n",
    "            \n",
    "            return\n",
    "    \n",
    "            \n",
    "    def _add_vertex_to_neighbours(self,v1, v2):\n",
    "        \"\"\"\n",
    "        add vertex v2 to neigbours of vertex v1\n",
    "        \"\"\"\n",
    "        if v1 not in self.V:\n",
    "            self.add_vertex(v1)\n",
    "        if v2 in self.V[v1]['neighbours']:\n",
    "            print('vertex already in neighbours')\n",
    "            return\n",
    "        self.V[v1]['neighbours'].add(v2)\n",
    "        self.V[v1]['degree'] += 1\n",
    "        self._D_sorted = False\n",
    "\n",
    "        return\n",
    "    \n",
    "    def neighbours(self,v1):\n",
    "        \"\"\"\n",
    "        print all neigbour names of chosed vertex\n",
    "        \"\"\"\n",
    "        if v1 in self.V:\n",
    "            return self.V[v1]['neighbours']\n",
    "        else:\n",
    "            print(\"no such vertex in graph\")\n",
    "            return None \n",
    "        \n",
    "    def is_neighbour(self,vertex_name,neighbour_name):\n",
    "        \"\"\"\n",
    "        vetrex - vertex name\n",
    "        neighbout - neighbour name\n",
    "        True if neighbour\n",
    "        False if not neighbour\n",
    "        \"\"\"\n",
    "        if neighbour_name in self.V[vertex_name]['neighbours']:\n",
    "            return True\n",
    "        return False\n",
    "    \n",
    "    \n",
    "    def sort_vertex_by_degree(self):\n",
    "        \"\"\"\n",
    "        sort vertexes: big degree is first\n",
    "        \"\"\"\n",
    "        # добавить маркер сортер для массива Д для того, чтобы не сортировать сортированный Д\n",
    "        if self._D_sorted :\n",
    "            return\n",
    "        #сортировка вставками по \n",
    "        for i in range(len(self.D)-2,-1,-1):\n",
    "            j = i\n",
    "            while j <= len(self.D)-2 and self.D[j]['degree'] < self.D[j+1]['degree']:\n",
    "#                 print(B,B[j],B[j+1],j)\n",
    "                self.D[j],self.D[j+1] = self.D[j+1],self.D[j]\n",
    "                j += 1\n",
    "                #print('end',B,B[j],B[j+1],j)\n",
    "    #                 print(A)\n",
    "        \n",
    "        \n",
    "#         for i in range(len(self.D)):\n",
    "#             self.D[i]['D_index'] = i\n",
    "        self._D_sorted = True\n",
    "        \n",
    "        return\n",
    "        \n",
    "#     def number_by_degree(self,v1):\n",
    "#         \"\"\"\n",
    "#         number in D, sorted by degree\n",
    "#         \"\"\"\n",
    "#         self.sort_vertex_by_degree()\n",
    "#         return self.V[v1]['D_index'] +1\n",
    "    \n",
    "        \n",
    "    \n",
    "    def degree(self,v1):\n",
    "        \"\"\"\n",
    "        return degree of chosen vertex\n",
    "        \"\"\"\n",
    "        if v1 in self.V:\n",
    "            return len(self.V[v1]['neighbours'])\n",
    "        else:\n",
    "            return None\n",
    "        \n",
    "    def neighbour_max_degree(self,v1):\n",
    "        \"\"\"\n",
    "        if vertex have neighbours - return neighbour with maximum degree\n",
    "        if vertex don't have neighbours - return None\n",
    "        \"\"\"\n",
    "        if len ( self.V[v1]['neighbours'] ) == 0:\n",
    "            return None\n",
    "        neighbour_max_degree_name = self.V[v1]['neighbours'].pop() # random vervex from neighbours \n",
    "        self.V[v1]['neighbours'].union(self.V[v1]['neighbours'], {neighbour_max_degree_name}) #back poped vertex back to neighbours\n",
    "        max_degree = self.V[neighbour_max_degree_name]['degree']\n",
    "            \n",
    "        for neighbour in self.V[v1]['neighbours']:\n",
    "            if self.V[neighbour]['degree'] > max_degree:\n",
    "                max_degree = self.V[neighbour]['degree']\n",
    "                neighbour_max_degree = self.V[neighbour]\n",
    "        return neighbour_max_degree\n",
    "    \n",
    "    def vertex_max_degree(self):\n",
    "        self.sort_vertex_by_degree()\n",
    "        return self.D[0]\n",
    "    \n",
    "    \n",
    "    \n",
    "\n",
    "        \n",
    "            \n",
    "    \n",
    "    def clear_coloring(self):\n",
    "        self.used_colors = set()\n",
    "        self.coloring = dict()\n",
    "\n",
    "        \n",
    "    def recolor(self):\n",
    "        \"\"\"\n",
    "        Использовать с candidates при ветвлении\n",
    "        т.к в первоначальной окраске слишком много цветов\n",
    "        скорее всего стоит красить не каждое ветвление, а мб только в начале\n",
    "        \"\"\"\n",
    "    #     print('***recolor***')\n",
    "        max_color = -1\n",
    "        self.coloring = dict()\n",
    "        for vertex_name in self.V:\n",
    "            self.coloring[vertex_name] = None\n",
    "        self.used_colors = dict()\n",
    "        for vertex_name in self.V:\n",
    "#             print('vertex_name',vertex_name)\n",
    "#             print('used_Colors',self.used_colors)\n",
    "            avalible_colors = set(self.used_colors.keys() )\n",
    "            for neighbour_name in g.V[vertex_name]['neighbours']:\n",
    "#                 print('N',neighbour_name, self.coloring[neighbour_name] ,)\n",
    "                avalible_colors -= {self.coloring[neighbour_name]}\n",
    "                if len( avalible_colors ) == 0:\n",
    "                    break\n",
    "            if len( avalible_colors ) == 0:\n",
    "                max_color += 1 # color is index in candidates_coloring\n",
    "                self.used_colors[max_color] = set()\n",
    "                self.used_colors[max_color].add(vertex_name)\n",
    "                self.coloring[vertex_name] = max_color\n",
    "\n",
    "#             print('avalible_colors',avalible_colors)\n",
    "            if len( avalible_colors ) != 0:\n",
    "                for avalible_color in avalible_colors:\n",
    "                    rand_avalible_color = avalible_color\n",
    "                    break\n",
    "                self.used_colors[rand_avalible_color].add(vertex_name)\n",
    "                self.coloring[vertex_name] = rand_avalible_color\n",
    "#             print('chosen_Color',self.coloring[vertex_name])\n",
    "#         return used_colors,candidates_coloring\n",
    "\n",
    "    def recolor_by_degree(self):\n",
    "        \"\"\"\n",
    "        Использовать с candidates при ветвлении\n",
    "        т.к в первоначальной окраске слишком много цветов\n",
    "        скорее всего стоит красить не каждое ветвление, а мб только в начале\n",
    "        \"\"\"\n",
    "    #     print('***recolor***')    \n",
    "        self.sort_vertex_by_degree()\n",
    "        max_color = -1\n",
    "        self.coloring = dict()\n",
    "        for vertex_name in self.V:\n",
    "            self.coloring[vertex_name] = None\n",
    "        self.used_colors = dict()\n",
    "        for vertex in self.D:\n",
    "            vertex_name = vertex['name']\n",
    "#             print('vertex_name',vertex_name)\n",
    "#             print('used_Colors',self.used_colors)\n",
    "            avalible_colors = set(self.used_colors.keys() )\n",
    "            for neighbour_name in g.V[vertex_name]['neighbours']:\n",
    "#                 print('N',neighbour_name, self.coloring[neighbour_name] ,)\n",
    "                avalible_colors -= {self.coloring[neighbour_name]}\n",
    "                if len( avalible_colors ) == 0:\n",
    "                    break\n",
    "            if len( avalible_colors ) == 0:\n",
    "                max_color += 1 # color is index in candidates_coloring\n",
    "                self.used_colors[max_color] = set()\n",
    "                self.used_colors[max_color].add(vertex_name)\n",
    "                self.coloring[vertex_name] = max_color\n",
    "\n",
    "#             print('avalible_colors',avalible_colors)\n",
    "            if len( avalible_colors ) != 0:\n",
    "                for avalible_color in avalible_colors:\n",
    "                    rand_avalible_color = avalible_color\n",
    "                    break\n",
    "                self.used_colors[rand_avalible_color].add(vertex_name)\n",
    "                self.coloring[vertex_name] = rand_avalible_color\n",
    "#             print('chosen_Color',self.coloring[vertex_name])\n",
    "\n",
    "    def recolor_by_degree_reverse(self):\n",
    "            \"\"\"\n",
    "            Использовать с candidates при ветвлении\n",
    "            т.к в первоначальной окраске слишком много цветов\n",
    "            скорее всего стоит красить не каждое ветвление, а мб только в начале\n",
    "            \"\"\"\n",
    "        #     print('***recolor***')    \n",
    "            self.sort_vertex_by_degree()\n",
    "            max_color = -1\n",
    "            self.coloring = dict()\n",
    "            for vertex_name in self.V:\n",
    "                self.coloring[vertex_name] = None\n",
    "            self.used_colors = dict()\n",
    "            for vertex_index in range(len(self.D)-1,-1,-1):\n",
    "                vertex = self.D[vertex_index]\n",
    "                vertex_name = vertex['name']\n",
    "    #             print('vertex_name',vertex_name)\n",
    "    #             print('used_Colors',self.used_colors)\n",
    "                avalible_colors = set(self.used_colors.keys() )\n",
    "                for neighbour_name in g.V[vertex_name]['neighbours']:\n",
    "    #                 print('N',neighbour_name, self.coloring[neighbour_name] ,)\n",
    "                    avalible_colors -= {self.coloring[neighbour_name]}\n",
    "                    if len( avalible_colors ) == 0:\n",
    "                        break\n",
    "                if len( avalible_colors ) == 0:\n",
    "                    max_color += 1 # color is index in candidates_coloring\n",
    "                    self.used_colors[max_color] = set()\n",
    "                    self.used_colors[max_color].add(vertex_name)\n",
    "                    self.coloring[vertex_name] = max_color\n",
    "\n",
    "    #             print('avalible_colors',avalible_colors)\n",
    "                if len( avalible_colors ) != 0:\n",
    "                    for avalible_color in avalible_colors:\n",
    "                        rand_avalible_color = avalible_color\n",
    "                        break\n",
    "                    self.used_colors[rand_avalible_color].add(vertex_name)\n",
    "                    self.coloring[vertex_name] = rand_avalible_color\n",
    "    #             print('chosen_Color',self.coloring[vertex_name])\n",
    "    #   \n",
    "    \n",
    "        "
   ]
  },
  {
   "cell_type": "code",
   "execution_count": 48,
   "metadata": {},
   "outputs": [],
   "source": [
    "def read_dimacs_graph(file_path):\n",
    "    '''\n",
    "        Parse .col file and return graph object\n",
    "    '''\n",
    "    g = Graph()\n",
    "    with open(file_path, 'r') as file:\n",
    "        for line in file:\n",
    "            if line.startswith('c'):  # graph description\n",
    "                print(*line.split()[1:])\n",
    "            # first line: p name num_of_vertices num_of_edges\n",
    "            elif line.startswith('p'):\n",
    "                p, name, vertices_num, edges_num = line.split()\n",
    "                print('{0} {1} {2}'.format(name, vertices_num, edges_num))\n",
    "            elif line.startswith('e'):\n",
    "                _, v1, v2 = line.split()\n",
    "                g.add_edge(v1,v2)\n",
    "            else:\n",
    "                continue\n",
    "        return g\n"
   ]
  },
  {
   "cell_type": "code",
   "execution_count": 49,
   "metadata": {},
   "outputs": [],
   "source": [
    "path = 'C250.9.clq.txt'"
   ]
  },
  {
   "cell_type": "code",
   "execution_count": 50,
   "metadata": {},
   "outputs": [],
   "source": [
    "path2 = 'C500.9.clq.txt'"
   ]
  },
  {
   "cell_type": "code",
   "execution_count": 51,
   "metadata": {},
   "outputs": [],
   "source": [
    "path3 = 'brock800_4.clq.txt'"
   ]
  },
  {
   "cell_type": "code",
   "execution_count": 52,
   "metadata": {},
   "outputs": [],
   "source": [
    "path4 = 'C125.9.clq.txt'"
   ]
  },
  {
   "cell_type": "code",
   "execution_count": 53,
   "metadata": {},
   "outputs": [],
   "source": [
    "path_test = 'test.txt'"
   ]
  },
  {
   "cell_type": "code",
   "execution_count": 187,
   "metadata": {},
   "outputs": [],
   "source": [
    "file = open(path, 'r')"
   ]
  },
  {
   "cell_type": "code",
   "execution_count": 255,
   "metadata": {
    "scrolled": false
   },
   "outputs": [
    {
     "name": "stdout",
     "output_type": "stream",
     "text": [
      "FILE: C125.9.clq\n",
      "\n",
      "SOURCE: Generated by Michael Trick using\n",
      "ggen, a program by Craig Morgenstern\n",
      "\n",
      "DESCRIPTION: Cx.y is a random graph on x vertices\n",
      "with edge probability .y\n",
      "\n",
      "\n",
      "G(n,p) graph\n",
      "graph gen seed : 74328432\n",
      "number of vertices : 125\n",
      "max number of edges: 20000\n",
      "edge probability : 0.900000\n",
      "data structure : dense\n",
      "\n",
      "Graph Stats\n",
      "number of vertices : 125\n",
      "nonisolated vertices: 125\n",
      "number of edges : 6963\n",
      "edge density : 0.898452\n",
      "max degree : 119\n",
      "avg degree : 111.41\n",
      "min degree : 102\n",
      "edge 125 6963\n"
     ]
    }
   ],
   "source": [
    "g = read_dimacs_graph(path4);"
   ]
  },
  {
   "cell_type": "code",
   "execution_count": 256,
   "metadata": {
    "scrolled": true
   },
   "outputs": [
    {
     "name": "stdout",
     "output_type": "stream",
     "text": [
      "Wall time: 8.98 ms\n"
     ]
    }
   ],
   "source": [
    "%%time\n",
    "g.recolor()\n",
    "c1 = len(g.used_colors)\n",
    "g.clear_coloring()"
   ]
  },
  {
   "cell_type": "code",
   "execution_count": 257,
   "metadata": {},
   "outputs": [
    {
     "name": "stdout",
     "output_type": "stream",
     "text": [
      "Wall time: 12 ms\n"
     ]
    }
   ],
   "source": [
    "%%time\n",
    "g.recolor_by_degree()\n",
    "c2 = len(g.used_colors)\n",
    "g.clear_coloring()"
   ]
  },
  {
   "cell_type": "code",
   "execution_count": 258,
   "metadata": {
    "scrolled": true
   },
   "outputs": [
    {
     "name": "stdout",
     "output_type": "stream",
     "text": [
      "Wall time: 8.98 ms\n"
     ]
    }
   ],
   "source": [
    "%%time\n",
    "g.recolor_by_degree_reverse()\n",
    "c3 = len(g.used_colors)\n",
    "g.clear_coloring()"
   ]
  },
  {
   "cell_type": "code",
   "execution_count": 259,
   "metadata": {},
   "outputs": [],
   "source": [
    "g.clear_coloring()"
   ]
  },
  {
   "cell_type": "code",
   "execution_count": 260,
   "metadata": {},
   "outputs": [
    {
     "name": "stdout",
     "output_type": "stream",
     "text": [
      "g.coloring() 57\n",
      "g.coloring_by_degree() 57\n",
      "g.coloring_by_degree_reverse() 60\n"
     ]
    }
   ],
   "source": [
    "print('g.coloring()', c1)\n",
    "print('g.coloring_by_degree()', c2)\n",
    "print('g.coloring_by_degree_reverse()', c3)\n",
    "\n"
   ]
  },
  {
   "cell_type": "code",
   "execution_count": 265,
   "metadata": {},
   "outputs": [],
   "source": [
    "if c1 is max(c1,c2,c3):\n",
    "    g.clear_coloring()\n",
    "    g.recolor()\n",
    "    \n",
    "if c2 is max(c1,c2,c3):\n",
    "    g.recolor_by_degree()\n",
    "    g.recolor()\n",
    "if c3 is max(c1,c2,c3):\n",
    "    g.recolor_by_degree_reverse()\n",
    "    g.recolor()"
   ]
  },
  {
   "cell_type": "code",
   "execution_count": null,
   "metadata": {},
   "outputs": [],
   "source": []
  },
  {
   "cell_type": "markdown",
   "metadata": {},
   "source": [
    "Клика - подграф, который является полным графом.\n",
    "То есть все вершины соединины друг с другом\n"
   ]
  },
  {
   "cell_type": "code",
   "execution_count": null,
   "metadata": {},
   "outputs": [],
   "source": []
  },
  {
   "cell_type": "raw",
   "metadata": {
    "scrolled": true
   },
   "source": [
    "def initial_heuristic_degree():\n",
    "    clique = set()\n",
    "    g.sort_vertex_by_degree()\n",
    "#     print(type(clique))\n",
    "    for vertex in g.D:\n",
    "#         print(type(clique),type(vertex))\n",
    "        print(vertex)\n",
    "        clique.add(vertex['name'])\n",
    "        is_some_neighbours_not_in_clique = False\n",
    "#         добавить проверку того, что сосед соединен со всеми вершинами уже сущ. клики\n",
    "        for neighbour in vertex['neighbours']:\n",
    "            print(neighbour)\n",
    "            if neighbour not in clique:\n",
    "                clique.add(neighbour)\n",
    "                is_some_neighbours_not_in_clique = True\n",
    "        if is_some_neighbours_not_in_clique:\n",
    "            clique.add(vertex['name'])\n",
    "    return clique"
   ]
  },
  {
   "cell_type": "code",
   "execution_count": 266,
   "metadata": {
    "scrolled": true
   },
   "outputs": [],
   "source": [
    "def initial_heuristic_degree_2():\n",
    "    clique = set()\n",
    "    g.sort_vertex_by_degree()\n",
    "#     print(type(clique))\n",
    "    for vertex in g.D:\n",
    "#         print(type(clique),type(vertex))\n",
    "        \n",
    "        all_elements_in_clique_are_neighbours_to_vertex = True\n",
    "        for element in clique:\n",
    "            all_elements_in_clique_are_neighbours_to_vertex = all_elements_in_clique_are_neighbours_to_vertex and g.is_neighbour(vertex['name'],element)\n",
    "            if not all_elements_in_clique_are_neighbours_to_vertex:\n",
    "                break\n",
    "#         print(vertex['name'],all_elements_in_clique_are_neighbours_to_vertex )\n",
    "        if all_elements_in_clique_are_neighbours_to_vertex:\n",
    "            clique.add(vertex['name'])\n",
    "    return clique"
   ]
  },
  {
   "cell_type": "code",
   "execution_count": 267,
   "metadata": {},
   "outputs": [],
   "source": [
    "def initial_heuristic_color():\n",
    "    \"\"\"\n",
    "    makes clique:\n",
    "    first - vericies with maximal color\n",
    "    \"\"\"\n",
    "    clique = set()\n",
    "    g.sort_vertex_by_degree()\n",
    "    \n",
    "    for color in range(len(g.used_colors)):\n",
    "        for vertex_name in g.used_colors[color]:\n",
    "            all_elements_in_clique_are_neighbours_to_vertex = True\n",
    "            for element_name in clique:\n",
    "                all_elements_in_clique_are_neighbours_to_vertex = all_elements_in_clique_are_neighbours_to_vertex and g.is_neighbour(vertex_name,element_name)\n",
    "                if not all_elements_in_clique_are_neighbours_to_vertex:\n",
    "                    break\n",
    "#             print(vertex_name,all_elements_in_clique_are_neighbours_to_vertex )\n",
    "            if all_elements_in_clique_are_neighbours_to_vertex:\n",
    "                clique.add(vertex_name)\n",
    "    return clique"
   ]
  },
  {
   "cell_type": "code",
   "execution_count": 268,
   "metadata": {},
   "outputs": [],
   "source": [
    "def initial_heuristic_color_reverse():\n",
    "    \"\"\"\n",
    "    makes clique:\n",
    "    first - vericies with maximal color\n",
    "    \"\"\"\n",
    "\n",
    "    clique = set()\n",
    "    g.sort_vertex_by_degree()\n",
    "    \n",
    "    for color in range(len(g.used_colors)-1,-1,-1):\n",
    "        for vertex_name in g.used_colors[color]:\n",
    "            all_elements_in_clique_are_neighbours_to_vertex = True\n",
    "            for element_name in clique:\n",
    "                all_elements_in_clique_are_neighbours_to_vertex = all_elements_in_clique_are_neighbours_to_vertex and g.is_neighbour(vertex_name,element_name)\n",
    "                if not all_elements_in_clique_are_neighbours_to_vertex:\n",
    "                    break\n",
    "#             print(vertex_name,all_elements_in_clique_are_neighbours_to_vertex )\n",
    "            if all_elements_in_clique_are_neighbours_to_vertex:\n",
    "                clique.add(vertex_name)\n",
    "    return clique"
   ]
  },
  {
   "cell_type": "code",
   "execution_count": 269,
   "metadata": {},
   "outputs": [],
   "source": [
    "init_clique = initial_heuristic_color()"
   ]
  },
  {
   "cell_type": "code",
   "execution_count": 270,
   "metadata": {},
   "outputs": [],
   "source": [
    "init_clique_rev = initial_heuristic_color_reverse()"
   ]
  },
  {
   "cell_type": "code",
   "execution_count": 271,
   "metadata": {},
   "outputs": [],
   "source": [
    "init_clique_degree = initial_heuristic_degree_2()"
   ]
  },
  {
   "cell_type": "code",
   "execution_count": 272,
   "metadata": {
    "scrolled": false
   },
   "outputs": [
    {
     "data": {
      "text/plain": [
       "26"
      ]
     },
     "execution_count": 272,
     "metadata": {},
     "output_type": "execute_result"
    }
   ],
   "source": [
    "len(init_clique)"
   ]
  },
  {
   "cell_type": "code",
   "execution_count": 273,
   "metadata": {},
   "outputs": [
    {
     "data": {
      "text/plain": [
       "26"
      ]
     },
     "execution_count": 273,
     "metadata": {},
     "output_type": "execute_result"
    }
   ],
   "source": [
    "len(init_clique_rev)"
   ]
  },
  {
   "cell_type": "code",
   "execution_count": 274,
   "metadata": {},
   "outputs": [
    {
     "data": {
      "text/plain": [
       "29"
      ]
     },
     "execution_count": 274,
     "metadata": {},
     "output_type": "execute_result"
    }
   ],
   "source": [
    "len(init_clique_degree)"
   ]
  },
  {
   "cell_type": "code",
   "execution_count": 275,
   "metadata": {},
   "outputs": [],
   "source": [
    "def candidates_used_colors(candidates:set):\n",
    "    \"\"\"\n",
    "    работает только для первоначальной покраски командами для класса Graph()\n",
    "    для проверки количества цветов уже перекрашенного множества candidates (с помощью candidates_recolor) использовать \n",
    "    len(candidates_coloring)\n",
    "    \"\"\"\n",
    "    used_colors = set()\n",
    "    for vertex_name in candidates:\n",
    "        used_colors.add(g.V[vertex_name]['color'])\n",
    "    return used_colors"
   ]
  },
  {
   "cell_type": "code",
   "execution_count": 276,
   "metadata": {},
   "outputs": [],
   "source": [
    "def candidates_recolor(candidates:set):\n",
    "    \"\"\"\n",
    "    Использовать с candidates при ветвлении\n",
    "    т.к в первоначальной окраске слишком много цветов\n",
    "    скорее всего стоит красить не каждое ветвление, а мб только в начале\n",
    "    \"\"\"\n",
    "    max_color = -1\n",
    "    candidates_coloring = dict()\n",
    "    for vertex_name in candidates:\n",
    "        candidates_coloring[vertex_name] = None\n",
    "    used_colors = set()\n",
    "    for vertex_name in candidates:\n",
    "#         print(vertex_name)\n",
    "#         print('used_Colors',used_colors)\n",
    "        avalible_colors = used_colors.copy()\n",
    "        for neighbour_name in g.V[vertex_name]['neighbours'].intersection(candidates):\n",
    "#             print('N',neighbour_name, candidates_coloring[neighbour_name] , neighbour_name in candidates)\n",
    "            avalible_colors -= {candidates_coloring[neighbour_name]}\n",
    "#         print('avalible_colors',avalible_colors)\n",
    "        if len(avalible_colors) == 0:\n",
    "            max_color += 1 # color is index in candidates_coloring\n",
    "            used_colors.add(max_color)\n",
    "            candidates_coloring[vertex_name] = max_color\n",
    "        else:\n",
    "            min_color = len(g.V)\n",
    "            for color in avalible_colors:\n",
    "                min_color = min(min_color, color)\n",
    "            used_colors.add(min_color)\n",
    "            candidates_coloring[vertex_name] = min_color\n",
    "#         print('chosen_Color',candidates_coloring[vertex_name])\n",
    "    return used_colors,candidates_coloring"
   ]
  },
  {
   "cell_type": "code",
   "execution_count": 277,
   "metadata": {},
   "outputs": [],
   "source": [
    "def candidates_recolor_new(candidates:set):\n",
    "    \"\"\"\n",
    "    Использовать с candidates при ветвлении\n",
    "    т.к в первоначальной окраске слишком много цветов\n",
    "    скорее всего стоит красить не каждое ветвление, а мб только в начале\n",
    "    \"\"\"\n",
    "    max_color = -1\n",
    "    candidates_coloring = dict()\n",
    "    for vertex_name in candidates:\n",
    "        candidates_coloring[vertex_name] = None\n",
    "    used_colors = set()\n",
    "    for vertex_name in candidates:\n",
    "#         print(vertex_name)\n",
    "#         print('used_Colors',used_colors)\n",
    "        avalible_colors = used_colors.copy()\n",
    "        for neighbour_name in g.V[vertex_name]['neighbours'].intersection(candidates):\n",
    "#             print('N',neighbour_name, candidates_coloring[neighbour_name] , neighbour_name in candidates)\n",
    "            avalible_colors -= {candidates_coloring[neighbour_name]}\n",
    "            if len( avalible_colors ) == 0:\n",
    "                max_color += 1 # color is index in candidates_coloring\n",
    "                used_colors.add(max_color)\n",
    "                candidates_coloring[vertex_name] = max_color\n",
    "                break\n",
    "#         print('avalible_colors',avalible_colors)\n",
    "        if len( avalible_colors ) != 0:\n",
    "            for avalible_color in avalible_colors:\n",
    "                rand_avalible_color = avalible_color\n",
    "                break\n",
    "            candidates_coloring[vertex_name] = rand_avalible_color\n",
    "#         print('chosen_Color',candidates_coloring[vertex_name])\n",
    "    return used_colors,candidates_coloring"
   ]
  },
  {
   "cell_type": "code",
   "execution_count": 278,
   "metadata": {},
   "outputs": [],
   "source": [
    "def candidates_recolor_new_dict(candidates:set):\n",
    "    \"\"\"\n",
    "    Использовать с candidates при ветвлении\n",
    "    т.к в первоначальной окраске слишком много цветов\n",
    "    скорее всего стоит красить не каждое ветвление, а мб только в начале\n",
    "    \"\"\"\n",
    "#     print('***candidates_recolor***')\n",
    "    max_color = -1\n",
    "    candidates_coloring = dict()\n",
    "    for vertex_name in candidates:\n",
    "        candidates_coloring[vertex_name] = None\n",
    "    used_colors = dict()\n",
    "    for vertex_name in candidates:\n",
    "#         print('vertex_name',vertex_name)\n",
    "#         print('used_Colors',used_colors)\n",
    "        avalible_colors = set(used_colors.keys() )\n",
    "        for neighbour_name in g.V[vertex_name]['neighbours'].intersection(candidates):\n",
    "#             print('N',neighbour_name, candidates_coloring[neighbour_name] , neighbour_name in candidates)\n",
    "            avalible_colors -= {candidates_coloring[neighbour_name]}\n",
    "            if len( avalible_colors ) == 0:\n",
    "                break\n",
    "        if len( avalible_colors ) == 0:\n",
    "            max_color += 1 # color is index in candidates_coloring\n",
    "            used_colors[max_color] = set()\n",
    "            used_colors[max_color].add(vertex_name)\n",
    "            candidates_coloring[vertex_name] = max_color\n",
    "        \n",
    "#         print('avalible_colors',avalible_colors)\n",
    "        if len( avalible_colors ) != 0:\n",
    "            for avalible_color in avalible_colors:\n",
    "                rand_avalible_color = avalible_color\n",
    "                break\n",
    "            used_colors[rand_avalible_color].add(vertex_name)\n",
    "            candidates_coloring[vertex_name] = rand_avalible_color\n",
    "#         print('chosen_Color',candidates_coloring[vertex_name])\n",
    "    return used_colors,candidates_coloring"
   ]
  },
  {
   "cell_type": "code",
   "execution_count": 279,
   "metadata": {},
   "outputs": [],
   "source": [
    "def candidates_recolor_degree(candidates:set, rev = True):\n",
    "    \"\"\"\n",
    "    Использовать с candidates при ветвлении\n",
    "    т.к в первоначальной окраске слишком много цветов\n",
    "    скорее всего стоит красить не каждое ветвление, а мб только в начале\n",
    "    \"\"\"\n",
    "#     print('***candidates_recolor\n",
    "    candidates_degree_order = list(candidates)\n",
    "    candidates_degree_order.sort(key= lambda input: g.V[input]['degree'], reverse = rev)\n",
    "    max_color = -1\n",
    "    candidates_coloring = dict()\n",
    "    for vertex_name in candidates:\n",
    "        candidates_coloring[vertex_name] = None\n",
    "    used_colors = dict()\n",
    "    for vertex_name in candidates_degree_order:\n",
    "#         print('vertex_name',vertex_name)\n",
    "#         print('used_Colors',used_colors)\n",
    "        avalible_colors = set(used_colors.keys() )\n",
    "        for neighbour_name in g.V[vertex_name]['neighbours'].intersection(candidates):\n",
    "#             print('N',neighbour_name, candidates_coloring[neighbour_name] , neighbour_name in candidates)\n",
    "            avalible_colors -= {candidates_coloring[neighbour_name]}\n",
    "            if len( avalible_colors ) == 0:\n",
    "                break\n",
    "        if len( avalible_colors ) == 0:\n",
    "            max_color += 1 # color is index in candidates_coloring\n",
    "            used_colors[max_color] = set()\n",
    "            used_colors[max_color].add(vertex_name)\n",
    "            candidates_coloring[vertex_name] = max_color\n",
    "        \n",
    "#         print('avalible_colors',avalible_colors)\n",
    "        if len( avalible_colors ) != 0:\n",
    "            for avalible_color in avalible_colors:\n",
    "                rand_avalible_color = avalible_color\n",
    "                break\n",
    "            used_colors[rand_avalible_color].add(vertex_name)\n",
    "            candidates_coloring[vertex_name] = rand_avalible_color\n",
    "#         print('chosen_Color',candidates_coloring[vertex_name])\n",
    "    return used_colors,candidates_coloring"
   ]
  },
  {
   "cell_type": "code",
   "execution_count": 280,
   "metadata": {},
   "outputs": [],
   "source": [
    "def find_candidates():\n",
    "    \"\"\"\n",
    "    verticies - set of verticies names\n",
    "    find all verticies, that are neigbours to all verticies in verticies\n",
    "    if enter is empty - find all verticies of graph\n",
    "    clique - глабавльная переменная\n",
    "    \"\"\"\n",
    "    global clique\n",
    "    candidates = set()\n",
    "#     print('***find_candidates***')\n",
    "#     print('clique',clique)\n",
    "    if len(clique) == 0:\n",
    "        candidates = set( g.V.keys() )\n",
    "    for x in clique:\n",
    "#         print(g.V[x]['name'])\n",
    "        candidates = g.V[x]['neighbours'].copy()\n",
    "        break\n",
    "    for vertex in clique:\n",
    "        candidates.intersection_update(g.V[vertex]['neighbours'])\n",
    "#     print(candidates)\n",
    "    return candidates"
   ]
  },
  {
   "cell_type": "raw",
   "metadata": {},
   "source": [
    "def branching():\n",
    "    \"\"\"\n",
    "    прочитать граф\n",
    "    расскрасить граф\n",
    "    найти эвристику\n",
    "    \"\"\"\n",
    "    global clique, candidates, len_max_current_clique\n",
    "    \n",
    "    if len(candidates) == 0:\n",
    "        len_max_current_clique = len(clique)\n",
    "        \n",
    "        print('Over of one branch. New max_clique = ', len_max_current_clique )\n",
    "        return\n",
    "    \n",
    "#     print('len(candidates) at start', len(candidates) )\n",
    "    (colors,_) = candidates_recolor_degree(candidates)\n",
    "    order = branching_order()\n",
    "#     print('len(clique) at start',len(clique))\n",
    "#     print('len(colors) at start',len(colors), '\\n')\n",
    "#     if (len(clique) + len(colors) ) > len_max_current_clique:\n",
    "#         print('OK')\n",
    "#         print(len_max_current_clique)\n",
    "#     else:\n",
    "#         print(\"FIXME\")\n",
    "             \n",
    "    for color in range(len(colors)-1,-1,-1):\n",
    "        for vertex in colors[color]:\n",
    "#             print('color,vertex', color,vertex)\n",
    "            clique.add(vertex)\n",
    "            candidates = find_candidates()\n",
    "#             print('len(candidates)', len(candidates) )\n",
    "            (colors_br,_) = candidates_recolor_new_dict(candidates)\n",
    "#             print('len(colors_br)',len(colors_br))\n",
    "            len_max_possible_clique_on_branch = len(colors_br) + len(clique)\n",
    "#             print('len(clique)',len(clique))\n",
    "#             print('max_branch_clique, max_cur_clique',len_max_possible_clique_on_branch, len_max_current_clique)\n",
    "            if len_max_possible_clique_on_branch > len_max_current_clique:\n",
    "#                 print('branching:')\n",
    "                branching()\n",
    "#             else:\n",
    "#                 print('branch skipped')\n",
    "#             print('clique.remove', vertex , '\\n')\n",
    "            clique.remove(vertex)\n",
    "            "
   ]
  },
  {
   "cell_type": "code",
   "execution_count": 281,
   "metadata": {},
   "outputs": [],
   "source": [
    "def branching_order():\n",
    "    \"\"\"\n",
    "    создает последовательность из вершин множества candidates такую, что в начало добавляются\n",
    "    те вершины, при добавлении которых в клику новое множество кандидаы расскрашивается \n",
    "    в большое количество цветов.\n",
    "    Если понятно, что ветвь не оптимальна, то она сразу не добавляется в очередь\n",
    "    \"\"\"\n",
    "    \n",
    "    global clique, candidates, len_max_current_clique\n",
    "    \n",
    "    order = []\n",
    "    colors_on_branch = []\n",
    "    for vertex in candidates:\n",
    "#             print('color,vertex', color,vertex)\n",
    "        \n",
    "        clique.add(vertex)\n",
    "        candidates_br = find_candidates()\n",
    "        (colors_br,_) = candidates_recolor_degree(candidates_br)\n",
    "\n",
    "        len_max_possible_clique_on_branch = len(colors_br) + len(clique)\n",
    "#         print('len(clique)',len(clique))\n",
    "#         print('max_branch_clique, max_cur_clique',len_max_possible_clique_on_branch, len_max_current_clique)\n",
    "        if len_max_possible_clique_on_branch + 1000 > len_max_current_clique: #debug +100\n",
    "            order.append(vertex)\n",
    "            colors_on_branch.append( len(colors_br) )\n",
    "        else:\n",
    "            print('baned vertex',vertex, 'with colors', len(colors_br)  )\n",
    "        clique.remove(vertex)\n",
    "            \n",
    "    x = zip(order,colors_on_branch)\n",
    "    xs = sorted(x, key=lambda tup: tup[1], reverse = True)\n",
    "\n",
    "    order = [x[0] for x in xs]\n",
    "    colors_on_branch = [x[1] for x in xs] \n",
    "#     print('clique, candidates, len_max_current_clique', clique, candidates, len_max_current_clique)\n",
    "#     print('order',order)\n",
    "#     print('colors_on_branch',colors_on_branch)\n",
    "\n",
    "    return order,colors_on_branch"
   ]
  },
  {
   "cell_type": "code",
   "execution_count": 282,
   "metadata": {},
   "outputs": [],
   "source": [
    "def branching_new():\n",
    "    \"\"\"\n",
    "    прочитать граф\n",
    "    расскрасить граф\n",
    "    найти эвристику\n",
    "    \"\"\"\n",
    "    global clique, candidates, len_max_current_clique, forbiden\n",
    "    \n",
    "    if len(candidates) == 0:\n",
    "        len_max_current_clique = len(clique)\n",
    "        \n",
    "        print('Over of one branch. New max_clique = ', len_max_current_clique )\n",
    "        print('clique is', clique)\n",
    "        return\n",
    "    \n",
    "#     print('len(candidates) at start', len(candidates) )\n",
    "#     print('start with clique',clique)\n",
    "#     (colors,_) = candidates_recolor_degree(candidates)\n",
    "    order,colors_on_branch = branching_order()\n",
    "#     print('len(clique) at start',len(clique))\n",
    "#     print('len(colors) at start',len(colors), '\\n')\n",
    "#     if (len(clique) + len(colors) ) > len_max_current_clique:\n",
    "#         print('OK')\n",
    "#         print(len_max_current_clique)\n",
    "#     else:\n",
    "#         print(\"FIXME\")\n",
    "#     print('start on order', order)\n",
    "#     print('forbiden on start', forbiden)\n",
    "    forbiden_br = dict()\n",
    "    print('new order', order)\n",
    "    for vertex_index in range(len(order)):\n",
    "        vertex = order[vertex_index]\n",
    "        print('vertex_st',vertex, 'in order_st', order)\n",
    "\n",
    "#         a1 = colors_on_branch[vertex_index] + len(clique) + 1\n",
    "#         print('a1', vertex, a1,len_max_current_clique )\n",
    "        if colors_on_branch[vertex_index] + len(clique) + 1 + 1000<= len_max_current_clique: #debug +100\n",
    "#             print('skip branch for vertex:', vertex)\n",
    "            continue\n",
    "#         print('vertex', vertex)\n",
    "        clique.add(vertex)\n",
    "        candidates = find_candidates()\n",
    "        if not set(forbiden.keys()).issubset(candidates):\n",
    "            print('not set(forbiden.keys()).is_subset(candidates)')\n",
    "            print(set(forbiden.keys()), candidates)\n",
    "            clique.remove(vertex)\n",
    "            if vertex in forbiden:\n",
    "                forbiden[vertex] += 1\n",
    "            else:\n",
    "                forbiden[vertex] = 1\n",
    "\n",
    "            if vertex in forbiden_br:\n",
    "                forbiden_br[vertex] += 1\n",
    "            else:\n",
    "                forbiden_br[vertex] = 1\n",
    "            print('vertex_end',vertex, 'in order_end', order)\n",
    "            print('forbiden', forbiden)\n",
    "            print('forbiden_br',forbiden_br)\n",
    "#             сделать всякое разное\n",
    "            continue\n",
    "#         else:\n",
    "#             print('set(forbiden.keys()).is_subset(candidates)')\n",
    "#         print('len(candidates)', len(candidates) )\n",
    "        (colors_br,_) = candidates_recolor_degree(candidates)\n",
    "#         print('len(colors_br)',len(colors_br))\n",
    "        len_max_possible_clique_on_branch = len(colors_br) + len(clique)\n",
    "        len_max_possible_clique_on_branch = 1000 # debug - del cell for work\n",
    "#         print('len(clique)',len(clique))\n",
    "#         print('max_branch_clique, max_cur_clique',len_max_possible_clique_on_branch, len_max_current_clique)\n",
    "        a2 = len_max_possible_clique_on_branch\n",
    "#         print('a2', vertex, a2,len_max_current_clique )\n",
    "        if len_max_possible_clique_on_branch > len_max_current_clique:\n",
    "#             print('branching with clique:')\n",
    "#             print(clique)\n",
    "#             print('new_Colors', len(colors_br) )\n",
    "            branching_new()\n",
    "#         else:\n",
    "#             print('new_Colors', len(colors_br) )\n",
    "#             print('branch skipped',a1,a2)\n",
    "#         print('clique.remove', vertex , '\\n')\n",
    "        clique.remove(vertex)\n",
    "        if vertex in forbiden:\n",
    "            forbiden[vertex] += 1\n",
    "        else:\n",
    "            forbiden[vertex] = 1\n",
    "        \n",
    "        if vertex in forbiden_br:\n",
    "            forbiden_br[vertex] += 1\n",
    "        else:\n",
    "            forbiden_br[vertex] = 1\n",
    "        print('vertex_end',vertex, 'in order_end', order)\n",
    "        print('forbiden', forbiden)\n",
    "        print('forbiden_br',forbiden_br)\n",
    "        \n",
    "    for vertex in forbiden_br:\n",
    "        forbiden[vertex] -= forbiden_br[vertex]\n",
    "        if forbiden[vertex] == 0:\n",
    "            forbiden.pop(vertex)\n",
    "        if vertex in forbiden and forbiden[vertex] < 0:\n",
    "            raise AssertionError('forbiden[vertex] < 0')\n",
    "    forbiden_br = dict()\n",
    "\n",
    "#     for vertex_index in range(len(order)):\n",
    "#         vertex = order[vertex_index]\n",
    "# #         print('remove from forbiden', vertex)\n",
    "# #         print('forbiden', forbiden)\n",
    "#         if vertex in forbiden:\n",
    "#             forbiden.remove(vertex)\n",
    "\n",
    "#     print('finish on order', order)        \n",
    "      "
   ]
  },
  {
   "cell_type": "code",
   "execution_count": null,
   "metadata": {},
   "outputs": [],
   "source": []
  },
  {
   "cell_type": "code",
   "execution_count": null,
   "metadata": {
    "scrolled": false
   },
   "outputs": [],
   "source": [
    "clique = set()\n",
    "candidates = find_candidates()\n",
    "len_max_current_clique = 10\n",
    "forbiden = dict()\n",
    "branching_new()"
   ]
  },
  {
   "cell_type": "code",
   "execution_count": 164,
   "metadata": {},
   "outputs": [],
   "source": [
    "from collections import namedtuple"
   ]
  },
  {
   "cell_type": "code",
   "execution_count": 135,
   "metadata": {},
   "outputs": [],
   "source": [
    "for x in range(10):\n",
    "    forbiden[x] = 2*x"
   ]
  },
  {
   "cell_type": "code",
   "execution_count": 136,
   "metadata": {},
   "outputs": [
    {
     "data": {
      "text/plain": [
       "{0: 0, 1: 2, 2: 4, 3: 6, 4: 8, 5: 10, 6: 12, 7: 14, 8: 16, 9: 18}"
      ]
     },
     "execution_count": 136,
     "metadata": {},
     "output_type": "execute_result"
    }
   ],
   "source": [
    "forbiden"
   ]
  },
  {
   "cell_type": "code",
   "execution_count": 138,
   "metadata": {},
   "outputs": [],
   "source": [
    "a = forbiden"
   ]
  },
  {
   "cell_type": "code",
   "execution_count": 143,
   "metadata": {},
   "outputs": [],
   "source": [
    "b = set(a.keys()).union({11})"
   ]
  },
  {
   "cell_type": "code",
   "execution_count": 144,
   "metadata": {},
   "outputs": [
    {
     "data": {
      "text/plain": [
       "{0, 1, 2, 3, 4, 5, 6, 7, 8, 9}"
      ]
     },
     "execution_count": 144,
     "metadata": {},
     "output_type": "execute_result"
    }
   ],
   "source": [
    "set(a.keys())"
   ]
  },
  {
   "cell_type": "code",
   "execution_count": 146,
   "metadata": {},
   "outputs": [
    {
     "data": {
      "text/plain": [
       "False"
      ]
     },
     "execution_count": 146,
     "metadata": {},
     "output_type": "execute_result"
    }
   ],
   "source": [
    "b.issubset(set(a.keys()))"
   ]
  }
 ],
 "metadata": {
  "kernelspec": {
   "display_name": "Python 3",
   "language": "python",
   "name": "python3"
  },
  "language_info": {
   "codemirror_mode": {
    "name": "ipython",
    "version": 3
   },
   "file_extension": ".py",
   "mimetype": "text/x-python",
   "name": "python",
   "nbconvert_exporter": "python",
   "pygments_lexer": "ipython3",
   "version": "3.7.3"
  }
 },
 "nbformat": 4,
 "nbformat_minor": 2
}
